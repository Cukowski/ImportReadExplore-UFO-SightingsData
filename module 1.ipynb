{
 "cells": [
  {
   "cell_type": "markdown",
   "metadata": {
    "deletable": false,
    "editable": false,
    "nbgrader": {
     "cell_type": "markdown",
     "checksum": "4745662f13e92b0619a5c24d5a6d6465",
     "grade": false,
     "grade_id": "cell-4c51d8766bad0f90",
     "locked": true,
     "schema_version": 3,
     "solution": false,
     "task": false
    }
   },
   "source": [
    "# Module 1"
   ]
  },
  {
   "cell_type": "markdown",
   "metadata": {
    "deletable": false,
    "editable": false,
    "nbgrader": {
     "cell_type": "markdown",
     "checksum": "1ad5d0efef20605ebbd5b8c1591cd803",
     "grade": false,
     "grade_id": "cell-7147bf0f2ef1cab7",
     "locked": true,
     "schema_version": 3,
     "solution": false,
     "task": false
    }
   },
   "source": [
    "#### In this assignment, you will work with ufo sightings data.\n",
    "- The data includes various data points about individual ufo sightings\n",
    "- Data File(s): ufo-sightings.csv"
   ]
  },
  {
   "cell_type": "code",
   "execution_count": null,
   "metadata": {
    "deletable": false,
    "editable": false,
    "nbgrader": {
     "cell_type": "code",
     "checksum": "68dcc74b0f4a7f673dc7b9cfb69d4fbf",
     "grade": true,
     "grade_id": "init",
     "locked": true,
     "points": 0,
     "schema_version": 3,
     "solution": false,
     "task": false
    }
   },
   "outputs": [],
   "source": [
    "###########################################################\n",
    "### EXECUTE THIS CELL BEFORE YOU TO TEST YOUR SOLUTIONS ###\n",
    "###########################################################\n",
    "\n",
    "import imp, os, sys\n",
    "sol = imp.load_compiled(\"solutions\", \"./solutions.py\")\n",
    "sol.get_solutions(\"ufo-sightings.csv\")\n",
    "from nose.tools import assert_equal"
   ]
  },
  {
   "cell_type": "code",
   "execution_count": null,
   "metadata": {
    "deletable": false,
    "nbgrader": {
     "cell_type": "code",
     "checksum": "d1c0e75575e9a23165fe56e435d5b10c",
     "grade": false,
     "grade_id": "q1",
     "locked": false,
     "schema_version": 3,
     "solution": true,
     "task": false
    }
   },
   "outputs": [],
   "source": [
    "'''\n",
    "1. Import the csv module. Load and read the UFO sightings data set, from the ufo-sightings.csv file, \n",
    "into a DictReader inside a with statement.  Assume the data file is in the same directory as the code. \n",
    "\n",
    "Print the field names of the data set. Iterate over the reader to put the data into a list name \"ufosightings\".\n",
    "\n",
    "'''\n",
    "\n",
    "import csv\n",
    "filepath = \"ufo-sightings.csv\"\n",
    "\n",
    "# your code here\n",
    "with open(filepath, 'r') as csvfile:\n",
    "    reader = csv.DictReader(csvfile)\n",
    "    \n",
    "    ufosightings = [] \n",
    "    for row in reader:\n",
    "        ufosightings.append(row)\n",
    "    \n",
    "    print(ufosightings)\n",
    "        \n",
    "    "
   ]
  },
  {
   "cell_type": "code",
   "execution_count": null,
   "metadata": {
    "deletable": false,
    "editable": false,
    "nbgrader": {
     "cell_type": "code",
     "checksum": "b1cebac44c06dbaec611ecb6967c87ce",
     "grade": true,
     "grade_id": "q1_test",
     "locked": true,
     "points": 1,
     "schema_version": 3,
     "solution": false,
     "task": false
    }
   },
   "outputs": [],
   "source": [
    "##########################\n",
    "### TEST YOUR SOLUTION ###\n",
    "##########################\n",
    "\n",
    "assert_equal(ufosightings, sol.ufosightings)\n",
    "print(\"Success!\")"
   ]
  },
  {
   "cell_type": "code",
   "execution_count": null,
   "metadata": {
    "deletable": false,
    "nbgrader": {
     "cell_type": "code",
     "checksum": "e6ebf8e439b970dc3fe44e06590ff0f3",
     "grade": false,
     "grade_id": "q2",
     "locked": false,
     "schema_version": 3,
     "solution": true,
     "task": false
    }
   },
   "outputs": [],
   "source": [
    "'''\n",
    "2. How many sightings were there in total?  Put the count in \"ufosightings_count\" and print the result.\n",
    "'''\n",
    "# your code here\n",
    "\n",
    "ufosightings_count = len(ufosightings)\n",
    "print(ufosightings_count)"
   ]
  },
  {
   "cell_type": "code",
   "execution_count": null,
   "metadata": {
    "deletable": false,
    "editable": false,
    "nbgrader": {
     "cell_type": "code",
     "checksum": "5e87862e459c524d0da8ea372a28ca7c",
     "grade": true,
     "grade_id": "q2_test",
     "locked": true,
     "points": 1,
     "schema_version": 3,
     "solution": false,
     "task": false
    }
   },
   "outputs": [],
   "source": [
    "##########################\n",
    "### TEST YOUR SOLUTION ###\n",
    "##########################\n",
    "\n",
    "assert_equal(ufosightings_count, sol.ufosightings_count)\n",
    "print(\"Success!\")"
   ]
  },
  {
   "cell_type": "code",
   "execution_count": null,
   "metadata": {
    "deletable": false,
    "nbgrader": {
     "cell_type": "code",
     "checksum": "457a00da61c520c1752b6810a4580ad3",
     "grade": false,
     "grade_id": "q3",
     "locked": false,
     "schema_version": 3,
     "solution": true,
     "task": false
    }
   },
   "outputs": [],
   "source": [
    "'''\n",
    "3. How many sightings were there in the US?  Put the US sightings in \"sightings_us\" and print.\n",
    "\n",
    "Hint: Check for ufo sightings where the country is 'us'.\n",
    "\n",
    "'''\n",
    "\n",
    "# your code here\n",
    "sightings_us = [row for row in ufosightings if row[\"country\"] == \"us\"]\n",
    "print(len(sightings_us))"
   ]
  },
  {
   "cell_type": "code",
   "execution_count": null,
   "metadata": {
    "deletable": false,
    "editable": false,
    "nbgrader": {
     "cell_type": "code",
     "checksum": "960f0cb585981b6fa7e2fb81e59857dd",
     "grade": true,
     "grade_id": "q3_test",
     "locked": true,
     "points": 1,
     "schema_version": 3,
     "solution": false,
     "task": false
    }
   },
   "outputs": [],
   "source": [
    "##########################\n",
    "### TEST YOUR SOLUTION ###\n",
    "##########################\n",
    "\n",
    "assert_equal(sightings_us,  sol.sightings_us)\n",
    "print(\"Success!\")"
   ]
  },
  {
   "cell_type": "code",
   "execution_count": null,
   "metadata": {
    "deletable": false,
    "nbgrader": {
     "cell_type": "code",
     "checksum": "13ce9b0565a4b9ef59390674b0a532a2",
     "grade": false,
     "grade_id": "q4",
     "locked": false,
     "schema_version": 3,
     "solution": true,
     "task": false
    }
   },
   "outputs": [],
   "source": [
    "'''\n",
    "4. Let's find the \"fireball\" sighting(s) that lasted more than ten seconds in US. \n",
    "Print the the datetime and state of each.  Put the data in \"fball\" and print the result.\n",
    "\n",
    "Note: Consider only the US sightings stored in \"sightings_us\".\n",
    "\n",
    "- Cast the duration in seconds to a float (decimal). \n",
    "- Check if duration is greater than 10. \n",
    "- Check if the shape is \"fireball\".\n",
    "\n",
    "'''\n",
    "\n",
    "#First, define a Python function that checks if a given duration (seconds) is \"valid\"\n",
    "def is_valid_duration(duration_as_string):\n",
    "# your code here\n",
    "    try:\n",
    "        duration = float(duration_as_string)\n",
    "    except ValueError:\n",
    "        return False\n",
    "    else:\n",
    "        return duration\n",
    "\n",
    "fball = [row for row in sightings_us if(is_valid_duration(row[\"duration (seconds)\"]) > 10 and row[\"shape\"] == \"fireball\")]\n",
    "\n",
    "for event in fball:\n",
    "    print(event[\"datetime\"], event[\"state\"]) "
   ]
  },
  {
   "cell_type": "code",
   "execution_count": null,
   "metadata": {
    "deletable": false,
    "editable": false,
    "nbgrader": {
     "cell_type": "code",
     "checksum": "1036767feef82df1d21359dbc5559fac",
     "grade": true,
     "grade_id": "q4_test",
     "locked": true,
     "points": 1,
     "schema_version": 3,
     "solution": false,
     "task": false
    }
   },
   "outputs": [],
   "source": [
    "##########################\n",
    "### TEST YOUR SOLUTION ###\n",
    "##########################\n",
    "\n",
    "assert_equal(fball, sol.fball)\n",
    "print(\"Success!\")"
   ]
  },
  {
   "cell_type": "code",
   "execution_count": null,
   "metadata": {
    "deletable": false,
    "nbgrader": {
     "cell_type": "code",
     "checksum": "649bd72f2dbd667ba6de5ec1f4bfce7d",
     "grade": false,
     "grade_id": "q5",
     "locked": false,
     "schema_version": 3,
     "solution": true,
     "task": false
    }
   },
   "outputs": [],
   "source": [
    "'''\n",
    "5. Sort the above list by duration. What was the datetime and duration of the longest sighting?  \n",
    "Put the sorted list in \"fballsorted\" and print the result.\n",
    "\n",
    "- Cast the duration in seconds to a float (decimal). \n",
    "- Sort in reverse order.\n",
    "\n",
    "'''\n",
    "\n",
    "# your code here\n",
    "fballsorted = sorted(fball, key = lambda x: float(x[\"duration (seconds)\"]), reverse=True)\n",
    "\n",
    "# Print the sorted result\n",
    "for entry in fballsorted:\n",
    "    print(entry['datetime'], entry['duration (seconds)'])\n"
   ]
  },
  {
   "cell_type": "code",
   "execution_count": null,
   "metadata": {
    "deletable": false,
    "editable": false,
    "nbgrader": {
     "cell_type": "code",
     "checksum": "d8af45111f3a9fc5289568573f6561de",
     "grade": true,
     "grade_id": "q5_test",
     "locked": true,
     "points": 1,
     "schema_version": 3,
     "solution": false,
     "task": false
    }
   },
   "outputs": [],
   "source": [
    "##########################\n",
    "### TEST YOUR SOLUTION ###\n",
    "##########################\n",
    "\n",
    "assert_equal(fballsorted, sol.fballsorted)\n",
    "print(\"Success!\")"
   ]
  },
  {
   "cell_type": "code",
   "execution_count": null,
   "metadata": {
    "deletable": false,
    "nbgrader": {
     "cell_type": "code",
     "checksum": "935e615362bcbc243221ea0538d627b7",
     "grade": false,
     "grade_id": "q6",
     "locked": false,
     "schema_version": 3,
     "solution": true,
     "task": false
    }
   },
   "outputs": [],
   "source": [
    "'''\n",
    "6. What state had the longest lasting \"fireball\"?   Put the state in \"state\" and print the result.\n",
    "\n",
    "- Check if the shape is \"fireball\".\n",
    "- Cast the duration in seconds to a float (decimal).\n",
    "- Get the record with the largest (max) duration in seconds.\n",
    "- Get the state for the record.\n",
    "\n",
    "'''\n",
    "\n",
    "# your code here\n",
    "state = fballsorted[0][\"state\"]\n",
    "print(state)"
   ]
  },
  {
   "cell_type": "code",
   "execution_count": null,
   "metadata": {
    "deletable": false,
    "editable": false,
    "nbgrader": {
     "cell_type": "code",
     "checksum": "5ef55caa7910a4805bb110e3ede1adf9",
     "grade": true,
     "grade_id": "q6_test",
     "locked": true,
     "points": 1,
     "schema_version": 3,
     "solution": false,
     "task": false
    }
   },
   "outputs": [],
   "source": [
    "##########################\n",
    "### TEST YOUR SOLUTION ###\n",
    "##########################\n",
    "\n",
    "assert_equal(state, sol.state)\n",
    "print(\"Success!\")"
   ]
  },
  {
   "cell_type": "code",
   "execution_count": null,
   "metadata": {
    "deletable": false,
    "nbgrader": {
     "cell_type": "code",
     "checksum": "1a7809848c5f6e6220a9e7727631f61e",
     "grade": false,
     "grade_id": "q7",
     "locked": false,
     "schema_version": 3,
     "solution": true,
     "task": false
    }
   },
   "outputs": [],
   "source": [
    "'''\n",
    "7. Let's assume that any sighting (of any shape) of 0 seconds is insignificant. \n",
    "Write code to filter out these extraneous records and get the shortest sighting overall now.  \n",
    "Put the minimum duration in \"min_duration\" and print the result.  \n",
    "Use ufosightings\n",
    "Note: Consider all sightings stored in \"ufosightings\".\n",
    "\n",
    "'''\n",
    "\n",
    "# your code here\n",
    "\n",
    "valid_sightings = [row for row in ufosightings if is_valid_duration(row[\"duration (seconds)\"]) and float(row[\"duration (seconds)\"]) > 0]\n",
    "\n",
    "min_duration_entry = min(valid_sightings, key=lambda x: float(x[\"duration (seconds)\"]))\n",
    "\n",
    "min_duration = float(min_duration_entry[\"duration (seconds)\"])\n",
    "\n",
    "print(min_duration)\n"
   ]
  },
  {
   "cell_type": "code",
   "execution_count": null,
   "metadata": {
    "deletable": false,
    "editable": false,
    "nbgrader": {
     "cell_type": "code",
     "checksum": "b2f4349e1b06892706f2d6f880277b97",
     "grade": true,
     "grade_id": "q7_test",
     "locked": true,
     "points": 1,
     "schema_version": 3,
     "solution": false,
     "task": false
    }
   },
   "outputs": [],
   "source": [
    "##########################\n",
    "### TEST YOUR SOLUTION ###\n",
    "##########################\n",
    "\n",
    "assert_equal(min_duration, sol.min_duration)\n",
    "print(\"Success!\")"
   ]
  },
  {
   "cell_type": "code",
   "execution_count": null,
   "metadata": {
    "deletable": false,
    "nbgrader": {
     "cell_type": "code",
     "checksum": "a4beec2d293e46b1fdbc338f5d3f41e4",
     "grade": false,
     "grade_id": "q8",
     "locked": false,
     "schema_version": 3,
     "solution": true,
     "task": false
    }
   },
   "outputs": [],
   "source": [
    "'''\n",
    "8. What are the top 3 shapes sighted, and how many sightings were there for each? \n",
    "\n",
    "Note: Consider all sightings stored in \"ufosightings\".\n",
    "\n",
    "- Create a new list \"sightings_shapes\" containing values from the \"shape\" column in ufosightings.  \n",
    "- Create a new dictionary \"count\" with values of that column as keys and the counts as values.\n",
    "- Get a list of the dictionary keys and values using the items() method.  This will return a list of key:value pairs.\n",
    "Sort the list of key:value pairs in reverse order, from greatest (most sightings) to least.\n",
    "\n",
    "Get the top 3 and store in \"top3shapes\".  Print the result.\n",
    "\n",
    "'''\n",
    "\n",
    "#Create a new list containing values from the \"shape\" column in ufosightings.\n",
    "# your code here\n",
    "sightings_shapes = [row[\"shape\"] for row in ufosightings]\n",
    "\n",
    "\n",
    "#Create a new dictionary with values of that column as keys and the counts as values.\n",
    "# your code here\n",
    "count = {}\n",
    "for row in ufosightings:\n",
    "    shape = row[\"shape\"]\n",
    "    count[shape] = count.get(shape, 0) + 1\n",
    "\n",
    "        \n",
    "#Get a list of the dictionary keys and values (use the items() method) and sort them in reverse order, from greatest (most sightings) to least.\n",
    "#Get and print the top 3.\n",
    "# your code here\n",
    "sorted_count = sorted(count.items(), key=lambda x: x[1], reverse=True)\n",
    "\n",
    "# Get and print the top 3\n",
    "top3shapes = sorted_count[:3]\n",
    "# for shape, count in top3shapes:\n",
    "#     print(shape, count)"
   ]
  },
  {
   "cell_type": "code",
   "execution_count": null,
   "metadata": {
    "deletable": false,
    "editable": false,
    "nbgrader": {
     "cell_type": "code",
     "checksum": "52ca2e541693f2c074dcc9fac65ee87a",
     "grade": true,
     "grade_id": "q8_test_a",
     "locked": true,
     "points": 1,
     "schema_version": 3,
     "solution": false,
     "task": false
    }
   },
   "outputs": [],
   "source": [
    "##########################\n",
    "### TEST YOUR SOLUTION ###\n",
    "##########################\n",
    "\n",
    "assert_equal(sightings_shapes, sol.sightings_shapes)\n",
    "print(\"Success!\")"
   ]
  },
  {
   "cell_type": "code",
   "execution_count": null,
   "metadata": {
    "deletable": false,
    "editable": false,
    "nbgrader": {
     "cell_type": "code",
     "checksum": "2c887f9cb2ba4ad4ff503215280ea6dc",
     "grade": true,
     "grade_id": "q8_test_b",
     "locked": true,
     "points": 1,
     "schema_version": 3,
     "solution": false,
     "task": false
    }
   },
   "outputs": [],
   "source": [
    "##########################\n",
    "### TEST YOUR SOLUTION ###\n",
    "##########################\n",
    "\n",
    "assert_equal(count, sol.count)\n",
    "print(\"Success!\")"
   ]
  },
  {
   "cell_type": "code",
   "execution_count": null,
   "metadata": {
    "deletable": false,
    "editable": false,
    "nbgrader": {
     "cell_type": "code",
     "checksum": "b4904eaccaa346614a6832e02f1fb3b5",
     "grade": true,
     "grade_id": "q8_test_c",
     "locked": true,
     "points": 1,
     "schema_version": 3,
     "solution": false,
     "task": false
    }
   },
   "outputs": [],
   "source": [
    "##########################\n",
    "### TEST YOUR SOLUTION ###\n",
    "##########################\n",
    "\n",
    "assert_equal(top3shapes, sol.top3shapes)\n",
    "print(\"Success!\")"
   ]
  }
 ],
 "metadata": {
  "kernelspec": {
   "display_name": "Python 3",
   "language": "python",
   "name": "python3"
  },
  "language_info": {
   "codemirror_mode": {
    "name": "ipython",
    "version": 3
   },
   "file_extension": ".py",
   "mimetype": "text/x-python",
   "name": "python",
   "nbconvert_exporter": "python",
   "pygments_lexer": "ipython3",
   "version": "3.7.6"
  }
 },
 "nbformat": 4,
 "nbformat_minor": 4
}
